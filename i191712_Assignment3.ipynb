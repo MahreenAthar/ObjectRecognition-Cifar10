{
  "cells": [
    {
      "cell_type": "markdown",
      "metadata": {
        "id": "view-in-github",
        "colab_type": "text"
      },
      "source": [
        "<a href=\"https://colab.research.google.com/github/MahreenAthar/ObjectRecognition-Cifar10/blob/main/i191712_Assignment3.ipynb\" target=\"_parent\"><img src=\"https://colab.research.google.com/assets/colab-badge.svg\" alt=\"Open In Colab\"/></a>"
      ]
    },
    {
      "cell_type": "markdown",
      "source": [
        "# Importing Libraries"
      ],
      "metadata": {
        "id": "g4UvPGxZvtFu"
      },
      "id": "g4UvPGxZvtFu"
    },
    {
      "cell_type": "code",
      "execution_count": 31,
      "id": "09ac3f20",
      "metadata": {
        "id": "09ac3f20"
      },
      "outputs": [],
      "source": [
        "import tensorflow as tf\n",
        "from tensorflow.keras import datasets, layers, models\n",
        "import matplotlib.pyplot as plt\n",
        "import numpy as np\n",
        "import random"
      ]
    },
    {
      "cell_type": "code",
      "execution_count": 4,
      "id": "783d5448",
      "metadata": {
        "id": "783d5448"
      },
      "outputs": [],
      "source": [
        "(X_train, y_train), (X_test, y_test) = datasets.cifar10.load_data()"
      ]
    },
    {
      "cell_type": "code",
      "execution_count": 29,
      "id": "f0988451",
      "metadata": {
        "colab": {
          "base_uri": "https://localhost:8080/"
        },
        "id": "f0988451",
        "outputId": "78ac6fdd-5420-41dc-cde5-b8ebff58905c"
      },
      "outputs": [
        {
          "output_type": "stream",
          "name": "stdout",
          "text": [
            "X_train shape:  (50000, 32, 32, 3)\n",
            "y_train shape:  (50000,)\n",
            "X_test shape:  (10000, 32, 32, 3)\n",
            "Xy_test shape:  (10000, 1)\n"
          ]
        }
      ],
      "source": [
        "print(\"X_train shape: \", X_train.shape)\n",
        "print(\"y_train shape: \", y_train.shape)\n",
        "print(\"X_test shape: \", X_test.shape)\n",
        "print(\"Xy_test shape: \", y_test.shape)\n",
        "# To check a sample image (from X_train) uncomment the line below\n",
        "# X_train[0]\n",
        "# To check a sample label (from y_train) uncomment the line below\n",
        "# y_train[0]"
      ]
    },
    {
      "cell_type": "code",
      "source": [
        "y_train[:6]"
      ],
      "metadata": {
        "colab": {
          "base_uri": "https://localhost:8080/"
        },
        "id": "bb3l049woitO",
        "outputId": "7b0e141e-09ae-4a28-976a-8c4440937410"
      },
      "id": "bb3l049woitO",
      "execution_count": 10,
      "outputs": [
        {
          "output_type": "execute_result",
          "data": {
            "text/plain": [
              "array([[6],\n",
              "       [9],\n",
              "       [9],\n",
              "       [4],\n",
              "       [1],\n",
              "       [1]], dtype=uint8)"
            ]
          },
          "metadata": {},
          "execution_count": 10
        }
      ]
    },
    {
      "cell_type": "code",
      "source": [
        "y_train = y_train.reshape(-1,)\n",
        "y_train[:5]"
      ],
      "metadata": {
        "colab": {
          "base_uri": "https://localhost:8080/"
        },
        "id": "szB3wWfQpAxo",
        "outputId": "43cfd489-15cd-4e33-bbfa-18ab7a818f50"
      },
      "id": "szB3wWfQpAxo",
      "execution_count": 11,
      "outputs": [
        {
          "output_type": "execute_result",
          "data": {
            "text/plain": [
              "array([6, 9, 9, 4, 1], dtype=uint8)"
            ]
          },
          "metadata": {},
          "execution_count": 11
        }
      ]
    },
    {
      "cell_type": "code",
      "source": [
        "classLabels = [\"airplane\", \"automobile\", \"bird\", \"cat\", \"deer\", \"dog\", \"frog\", \"horse\", \"ship\", \"truck\"]\n",
        "# print(y_train[0], classLabels[y_train[0]])\n",
        "\n",
        "def plotImageSample(X, y, index):\n",
        "  plt.figure(figsize = (10, 2))\n",
        "  plt.imshow(X[index])\n",
        "  plt.xlabel(classLabels[y[index]], weight=\"bold\")\n",
        "\n",
        "randomImageNumber = np.random.randint(1, 50000)\n",
        "plotImageSample(X_train, y_train, randomImageNumber)"
      ],
      "metadata": {
        "colab": {
          "base_uri": "https://localhost:8080/",
          "height": 173
        },
        "id": "4sTtYeNUnGK8",
        "outputId": "a2701ebd-b055-47a3-fb02-cc334643e8de"
      },
      "id": "4sTtYeNUnGK8",
      "execution_count": 33,
      "outputs": [
        {
          "output_type": "display_data",
          "data": {
            "text/plain": [
              "<Figure size 720x144 with 1 Axes>"
            ],
            "image/png": "[encoded data removed]"
          },
          "metadata": {
            "needs_background": "light"
          }
        }
      ]
    },
    {
      "cell_type": "code",
      "source": [
        ""
      ],
      "metadata": {
        "id": "OYezu1WUqyA6"
      },
      "id": "OYezu1WUqyA6",
      "execution_count": 32,
      "outputs": []
    }
  ],
  "metadata": {
    "kernelspec": {
      "display_name": "Python 3",
      "language": "python",
      "name": "python3"
    },
    "language_info": {
      "codemirror_mode": {
        "name": "ipython",
        "version": 3
      },
      "file_extension": ".py",
      "mimetype": "text/x-python",
      "name": "python",
      "nbconvert_exporter": "python",
      "pygments_lexer": "ipython3",
      "version": "3.8.8"
    },
    "colab": {
      "name": "i191712_Assignment3.ipynb",
      "provenance": [],
      "collapsed_sections": [],
      "include_colab_link": true
    }
  },
  "nbformat": 4,
  "nbformat_minor": 5
}