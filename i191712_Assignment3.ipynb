{
  "cells": [
    {
      "cell_type": "markdown",
      "metadata": {
        "id": "view-in-github",
        "colab_type": "text"
      },
      "source": [
        "<a href=\"https://colab.research.google.com/github/MahreenAthar/ObjectRecognition-Cifar10/blob/main/i191712_Assignment3.ipynb\" target=\"_parent\"><img src=\"https://colab.research.google.com/assets/colab-badge.svg\" alt=\"Open In Colab\"/></a>"
      ]
    },
    {
      "cell_type": "markdown",
      "source": [
        "# Importing Libraries"
      ],
      "metadata": {
        "id": "g4UvPGxZvtFu"
      },
      "id": "g4UvPGxZvtFu"
    },
    {
      "cell_type": "code",
      "execution_count": 2,
      "id": "09ac3f20",
      "metadata": {
        "id": "09ac3f20"
      },
      "outputs": [],
      "source": [
        "import tensorflow as tf\n",
        "from tensorflow.keras import datasets, layers, models\n",
        "import matplotlib.pyplot as plt\n",
        "import random\n",
        "from sklearn import metrics\n",
        "from sklearn.linear_model import LinearRegression\n",
        "from sklearn.linear_model import LogisticRegression\n",
        "from sklearn.metrics import confusion_matrix, classification_report\n",
        "import numpy as np\n",
        "import pandas as pd\n",
        "from sklearn.cluster import KMeans\n",
        "# from sklearn.preprocessing import OneHotEncoder\n",
        "from sklearn.datasets import make_blobs\n",
        "from yellowbrick.cluster import KElbowVisualizer"
      ]
    },
    {
      "cell_type": "markdown",
      "source": [
        "## Splitting data into train and test"
      ],
      "metadata": {
        "id": "lHiiczVWxiKr"
      },
      "id": "lHiiczVWxiKr"
    },
    {
      "cell_type": "code",
      "execution_count": 3,
      "id": "783d5448",
      "metadata": {
        "colab": {
          "base_uri": "https://localhost:8080/"
        },
        "id": "783d5448",
        "outputId": "c2443d4a-7a7b-4d21-d4cd-30b289dc1a61"
      },
      "outputs": [
        {
          "output_type": "stream",
          "name": "stdout",
          "text": [
            "Downloading data from https://www.cs.toronto.edu/~kriz/cifar-10-python.tar.gz\n",
            "170500096/170498071 [==============================] - 2s 0us/step\n",
            "170508288/170498071 [==============================] - 2s 0us/step\n"
          ]
        }
      ],
      "source": [
        "(X_train, y_train), (X_test, y_test) = datasets.cifar10.load_data()"
      ]
    },
    {
      "cell_type": "markdown",
      "source": [
        "## Performing Exploratory Data Analysis"
      ],
      "metadata": {
        "id": "G3YRmOhk2IhX"
      },
      "id": "G3YRmOhk2IhX"
    },
    {
      "cell_type": "markdown",
      "source": [
        "### Checking shape of training and testing data"
      ],
      "metadata": {
        "id": "Dp7u5JujxoEG"
      },
      "id": "Dp7u5JujxoEG"
    },
    {
      "cell_type": "code",
      "execution_count": 4,
      "id": "f0988451",
      "metadata": {
        "colab": {
          "base_uri": "https://localhost:8080/"
        },
        "id": "f0988451",
        "outputId": "a5a8d677-5f45-42f3-b5d2-67298703dd2c"
      },
      "outputs": [
        {
          "output_type": "stream",
          "name": "stdout",
          "text": [
            "X_train shape:  (50000, 32, 32, 3)\n",
            "y_train shape:  (50000, 1)\n",
            "X_test shape:  (10000, 32, 32, 3)\n",
            "Xy_test shape:  (10000, 1)\n"
          ]
        }
      ],
      "source": [
        "print(\"X_train shape: \", X_train.shape)\n",
        "print(\"y_train shape: \", y_train.shape)\n",
        "print(\"X_test shape: \", X_test.shape)\n",
        "print(\"Xy_test shape: \", y_test.shape)\n",
        "# To check a sample image (from X_train) uncomment the line below\n",
        "# X_train[0]\n",
        "# To check a sample label (from y_train) uncomment the line below\n",
        "# y_train[0]"
      ]
    },
    {
      "cell_type": "markdown",
      "source": [
        "Checking values contained in the y_train. Here we see that y_train is actually a 2D array."
      ],
      "metadata": {
        "id": "zKpAJwYHxujp"
      },
      "id": "zKpAJwYHxujp"
    },
    {
      "cell_type": "code",
      "source": [
        "y_train[:6]"
      ],
      "metadata": {
        "colab": {
          "base_uri": "https://localhost:8080/"
        },
        "id": "bb3l049woitO",
        "outputId": "f6c73fb9-e8d6-4c40-fa72-1be04c4b623b"
      },
      "id": "bb3l049woitO",
      "execution_count": 5,
      "outputs": [
        {
          "output_type": "execute_result",
          "data": {
            "text/plain": [
              "array([[6],\n",
              "       [9],\n",
              "       [9],\n",
              "       [4],\n",
              "       [1],\n",
              "       [1]], dtype=uint8)"
            ]
          },
          "metadata": {},
          "execution_count": 5
        }
      ]
    },
    {
      "cell_type": "markdown",
      "source": [
        "Now we don't want each y_train to be a 2D array, there's no need for this so we will reshape it and convert it into 1D array and also the y_test dataset."
      ],
      "metadata": {
        "id": "NNrq6xgex8rS"
      },
      "id": "NNrq6xgex8rS"
    },
    {
      "cell_type": "code",
      "source": [
        "y_train = y_train.reshape(-1,)\n",
        "y_train[:5]\n",
        "y_test = y_test.reshape(-1,)\n",
        "y_test[:5]"
      ],
      "metadata": {
        "colab": {
          "base_uri": "https://localhost:8080/"
        },
        "id": "szB3wWfQpAxo",
        "outputId": "8f5d985e-2461-4d88-d8d5-5604ee54d92a"
      },
      "id": "szB3wWfQpAxo",
      "execution_count": 6,
      "outputs": [
        {
          "output_type": "execute_result",
          "data": {
            "text/plain": [
              "array([3, 8, 8, 0, 6], dtype=uint8)"
            ]
          },
          "metadata": {},
          "execution_count": 6
        }
      ]
    },
    {
      "cell_type": "markdown",
      "source": [
        "The output (above) shows that y_train now is a 1D array that consists of numbers ranging from 0-9. There values represent the class label (classLabels list in below cell)."
      ],
      "metadata": {
        "id": "wXXuTQRbyU-H"
      },
      "id": "wXXuTQRbyU-H"
    },
    {
      "cell_type": "markdown",
      "source": [
        "### Defining an image displaying function.\n",
        "This function displays the image and it's label. By default a random value from 0-50,000 is being passed to the function (since there are 50,000 images in the training data) but any index can be manually passed to the function. "
      ],
      "metadata": {
        "id": "sADqXGvtynIP"
      },
      "id": "sADqXGvtynIP"
    },
    {
      "cell_type": "code",
      "source": [
        "classLabels = [\"airplane\", \"automobile\", \"bird\", \"cat\", \"deer\", \"dog\", \"frog\", \"horse\", \"ship\", \"truck\"]\n",
        "# print(y_train[0], classLabels[y_train[0]])\n",
        "\n",
        "def plotImageSample(X, y, index):\n",
        "  plt.figure(figsize = (10, 2))\n",
        "  plt.imshow(X[index])\n",
        "  plt.xlabel(classLabels[y[index]], weight=\"bold\")\n",
        "\n",
        "randomImageNumber = np.random.randint(1, 50000)\n",
        "plotImageSample(X_train, y_train, randomImageNumber)"
      ],
      "metadata": {
        "colab": {
          "base_uri": "https://localhost:8080/",
          "height": 173
        },
        "id": "4sTtYeNUnGK8",
        "outputId": "9d237411-ad1c-4698-e86c-214f13afbf1a"
      },
      "id": "4sTtYeNUnGK8",
      "execution_count": 7,
      "outputs": [
        {
          "output_type": "display_data",
          "data": {
            "text/plain": [
              "<Figure size 720x144 with 1 Axes>"
            ],
            "image/png": "[encoded data removed]"
          },
          "metadata": {}
        }
      ]
    },
    {
      "cell_type": "markdown",
      "source": [
        "### Normalizing RGB values\n",
        "All RGB values range from 0-255, we wil be normalizing each pixel value by dividing it by 255 so all pixel values will range from 0-1."
      ],
      "metadata": {
        "id": "5x23cHu1zJyv"
      },
      "id": "5x23cHu1zJyv"
    },
    {
      "cell_type": "code",
      "source": [
        "X_train = X_train / 255\n",
        "X_test = X_test / 255"
      ],
      "metadata": {
        "id": "OYezu1WUqyA6"
      },
      "id": "OYezu1WUqyA6",
      "execution_count": 8,
      "outputs": []
    },
    {
      "cell_type": "code",
      "source": [
        "X_train[0]"
      ],
      "metadata": {
        "colab": {
          "base_uri": "https://localhost:8080/"
        },
        "id": "Lq3zX2S-ziJ0",
        "outputId": "f02a1963-51be-46cd-de3b-10c58182820c"
      },
      "id": "Lq3zX2S-ziJ0",
      "execution_count": 9,
      "outputs": [
        {
          "output_type": "execute_result",
          "data": {
            "text/plain": [
              "array([[[0.23137255, 0.24313725, 0.24705882],\n",
              "        [0.16862745, 0.18039216, 0.17647059],\n",
              "        [0.19607843, 0.18823529, 0.16862745],\n",
              "        ...,\n",
              "        [0.61960784, 0.51764706, 0.42352941],\n",
              "        [0.59607843, 0.49019608, 0.4       ],\n",
              "        [0.58039216, 0.48627451, 0.40392157]],\n",
              "\n",
              "       [[0.0627451 , 0.07843137, 0.07843137],\n",
              "        [0.        , 0.        , 0.        ],\n",
              "        [0.07058824, 0.03137255, 0.        ],\n",
              "        ...,\n",
              "        [0.48235294, 0.34509804, 0.21568627],\n",
              "        [0.46666667, 0.3254902 , 0.19607843],\n",
              "        [0.47843137, 0.34117647, 0.22352941]],\n",
              "\n",
              "       [[0.09803922, 0.09411765, 0.08235294],\n",
              "        [0.0627451 , 0.02745098, 0.        ],\n",
              "        [0.19215686, 0.10588235, 0.03137255],\n",
              "        ...,\n",
              "        [0.4627451 , 0.32941176, 0.19607843],\n",
              "        [0.47058824, 0.32941176, 0.19607843],\n",
              "        [0.42745098, 0.28627451, 0.16470588]],\n",
              "\n",
              "       ...,\n",
              "\n",
              "       [[0.81568627, 0.66666667, 0.37647059],\n",
              "        [0.78823529, 0.6       , 0.13333333],\n",
              "        [0.77647059, 0.63137255, 0.10196078],\n",
              "        ...,\n",
              "        [0.62745098, 0.52156863, 0.2745098 ],\n",
              "        [0.21960784, 0.12156863, 0.02745098],\n",
              "        [0.20784314, 0.13333333, 0.07843137]],\n",
              "\n",
              "       [[0.70588235, 0.54509804, 0.37647059],\n",
              "        [0.67843137, 0.48235294, 0.16470588],\n",
              "        [0.72941176, 0.56470588, 0.11764706],\n",
              "        ...,\n",
              "        [0.72156863, 0.58039216, 0.36862745],\n",
              "        [0.38039216, 0.24313725, 0.13333333],\n",
              "        [0.3254902 , 0.20784314, 0.13333333]],\n",
              "\n",
              "       [[0.69411765, 0.56470588, 0.45490196],\n",
              "        [0.65882353, 0.50588235, 0.36862745],\n",
              "        [0.70196078, 0.55686275, 0.34117647],\n",
              "        ...,\n",
              "        [0.84705882, 0.72156863, 0.54901961],\n",
              "        [0.59215686, 0.4627451 , 0.32941176],\n",
              "        [0.48235294, 0.36078431, 0.28235294]]])"
            ]
          },
          "metadata": {},
          "execution_count": 9
        }
      ]
    },
    {
      "cell_type": "markdown",
      "source": [
        "## Convolutional Neural Network"
      ],
      "metadata": {
        "id": "xT2XiCF419zH"
      },
      "id": "xT2XiCF419zH"
    },
    {
      "cell_type": "code",
      "source": [
        "CNN = models.Sequential([\n",
        "    # CNN layers => Convolution Layers + ReLU -> Pooling Layer -> COnv + ReLU -> Pooling \n",
        "    # Convolution layer for extracting the features\n",
        "    # ReLU as the activation function\n",
        "    # MaxPooling for dimension reduction and position-invarience feature detection\n",
        "    layers.Conv2D(filters=27, kernel_size=(3, 3), activation='relu', input_shape=(32, 32, 3)),\n",
        "    layers.MaxPooling2D((2, 2)),\n",
        "\n",
        "    layers.Conv2D(filters=57, kernel_size=(3, 3), activation='relu'),\n",
        "    layers.MaxPooling2D((2, 2)),\n",
        "\n",
        "    # Dense neural network\n",
        "    layers.Flatten(),\n",
        "    layers.Dense(57, activation='relu'),\n",
        "    layers.Dense(10, activation='softmax')\n",
        "])"
      ],
      "metadata": {
        "id": "fVm5-hTLzk_G"
      },
      "id": "fVm5-hTLzk_G",
      "execution_count": 10,
      "outputs": []
    },
    {
      "cell_type": "markdown",
      "source": [
        "### Compiling, Fitting & Evaluating the CNN Model "
      ],
      "metadata": {
        "id": "_SHwDXDf_EpH"
      },
      "id": "_SHwDXDf_EpH"
    },
    {
      "cell_type": "code",
      "source": [
        "CNN.compile(\n",
        "    optimizer='adam',\n",
        "    loss = 'sparse_categorical_crossentropy',\n",
        "    metrics=['Accuracy']\n",
        ")"
      ],
      "metadata": {
        "id": "B8gayEmV-mvq"
      },
      "id": "B8gayEmV-mvq",
      "execution_count": 11,
      "outputs": []
    },
    {
      "cell_type": "code",
      "source": [
        "CNN.fit(X_train, y_train, epochs=15)"
      ],
      "metadata": {
        "colab": {
          "base_uri": "https://localhost:8080/"
        },
        "id": "xQqhr5Hr_jkP",
        "outputId": "fdaf3023-6519-46e6-ee37-135fc7d2765a"
      },
      "id": "xQqhr5Hr_jkP",
      "execution_count": 12,
      "outputs": [
        {
          "output_type": "stream",
          "name": "stdout",
          "text": [
            "Epoch 1/15\n",
            "1563/1563 [==============================] - 63s 40ms/step - loss: 1.4994 - Accuracy: 0.4615\n",
            "Epoch 2/15\n",
            "1563/1563 [==============================] - 62s 39ms/step - loss: 1.1560 - Accuracy: 0.5950\n",
            "Epoch 3/15\n",
            "1563/1563 [==============================] - 62s 40ms/step - loss: 1.0227 - Accuracy: 0.6435\n",
            "Epoch 4/15\n",
            "1563/1563 [==============================] - 63s 40ms/step - loss: 0.9479 - Accuracy: 0.6733\n",
            "Epoch 5/15\n",
            "1563/1563 [==============================] - 63s 40ms/step - loss: 0.8873 - Accuracy: 0.6935\n",
            "Epoch 6/15\n",
            "1563/1563 [==============================] - 62s 40ms/step - loss: 0.8370 - Accuracy: 0.7083\n",
            "Epoch 7/15\n",
            "1563/1563 [==============================] - 61s 39ms/step - loss: 0.7985 - Accuracy: 0.7224\n",
            "Epoch 8/15\n",
            "1563/1563 [==============================] - 61s 39ms/step - loss: 0.7586 - Accuracy: 0.7361\n",
            "Epoch 9/15\n",
            "1563/1563 [==============================] - 61s 39ms/step - loss: 0.7249 - Accuracy: 0.7479\n",
            "Epoch 10/15\n",
            "1563/1563 [==============================] - 61s 39ms/step - loss: 0.6944 - Accuracy: 0.7560\n",
            "Epoch 11/15\n",
            "1563/1563 [==============================] - 61s 39ms/step - loss: 0.6683 - Accuracy: 0.7657\n",
            "Epoch 12/15\n",
            "1563/1563 [==============================] - 61s 39ms/step - loss: 0.6430 - Accuracy: 0.7764\n",
            "Epoch 13/15\n",
            "1563/1563 [==============================] - 61s 39ms/step - loss: 0.6187 - Accuracy: 0.7822\n",
            "Epoch 14/15\n",
            "1563/1563 [==============================] - 61s 39ms/step - loss: 0.6011 - Accuracy: 0.7889\n",
            "Epoch 15/15\n",
            "1563/1563 [==============================] - 61s 39ms/step - loss: 0.5753 - Accuracy: 0.7982\n"
          ]
        },
        {
          "output_type": "execute_result",
          "data": {
            "text/plain": [
              "<keras.callbacks.History at 0x7fca301ae090>"
            ]
          },
          "metadata": {},
          "execution_count": 12
        }
      ]
    },
    {
      "cell_type": "code",
      "source": [
        "AccCNNList = CNN.evaluate(X_test, y_test)\n",
        "AccCNN = AccCNNList[1]\n",
        "AccCNN"
      ],
      "metadata": {
        "colab": {
          "base_uri": "https://localhost:8080/"
        },
        "id": "2UfD-GATGkkM",
        "outputId": "f4efc884-2c06-4a35-f9f9-06e9eea4e1ee"
      },
      "id": "2UfD-GATGkkM",
      "execution_count": 40,
      "outputs": [
        {
          "output_type": "stream",
          "name": "stdout",
          "text": [
            "313/313 [==============================] - 4s 13ms/step - loss: 0.9857 - Accuracy: 0.6827\n"
          ]
        },
        {
          "output_type": "execute_result",
          "data": {
            "text/plain": [
              "0.682699978351593"
            ]
          },
          "metadata": {},
          "execution_count": 40
        }
      ]
    },
    {
      "cell_type": "code",
      "source": [
        "plotImageSample(X_test, y_test, 1)"
      ],
      "metadata": {
        "colab": {
          "base_uri": "https://localhost:8080/",
          "height": 173
        },
        "id": "f-AnY0qQjSiu",
        "outputId": "bc40c3bc-5b5f-43fd-a599-1051248c96af"
      },
      "id": "f-AnY0qQjSiu",
      "execution_count": 14,
      "outputs": [
        {
          "output_type": "display_data",
          "data": {
            "text/plain": [
              "<Figure size 720x144 with 1 Axes>"
            ],
            "image/png": "[encoded data removed]"
          },
          "metadata": {}
        }
      ]
    },
    {
      "cell_type": "code",
      "source": [
        "y_pred = CNN.predict(X_test)\n",
        "y_pred[:5]"
      ],
      "metadata": {
        "colab": {
          "base_uri": "https://localhost:8080/"
        },
        "id": "Ajt9q1MDjkjC",
        "outputId": "c70cdfa2-ed24-4c5b-c853-39c8320c8604"
      },
      "id": "Ajt9q1MDjkjC",
      "execution_count": 15,
      "outputs": [
        {
          "output_type": "execute_result",
          "data": {
            "text/plain": [
              "array([[4.6324331e-04, 1.5814863e-05, 1.6645164e-03, 7.5936913e-01,\n",
              "        1.2258880e-03, 1.8793719e-01, 2.8108947e-02, 1.6030199e-03,\n",
              "        1.9392094e-02, 2.2017227e-04],\n",
              "       [2.7072649e-03, 2.2097053e-03, 5.2907814e-07, 3.0836733e-07,\n",
              "        5.2823193e-06, 6.5752197e-08, 1.3747908e-08, 3.9045780e-08,\n",
              "        9.9419540e-01, 8.8135654e-04],\n",
              "       [7.5404473e-02, 4.4651538e-02, 4.1707780e-04, 1.3621055e-02,\n",
              "        5.6139801e-02, 6.4261742e-03, 5.9756456e-04, 5.8916374e-03,\n",
              "        7.2747505e-01, 6.9375619e-02],\n",
              "       [9.0827703e-01, 1.9274325e-03, 2.4015004e-02, 1.1676708e-02,\n",
              "        3.6468737e-02, 8.2384366e-05, 8.2628411e-04, 2.9626063e-03,\n",
              "        1.2427385e-02, 1.3362953e-03],\n",
              "       [1.4248062e-07, 1.5766349e-06, 3.2443881e-02, 4.6016742e-03,\n",
              "        3.5407382e-01, 3.0659241e-04, 6.0856330e-01, 4.8954251e-07,\n",
              "        8.3484274e-06, 1.3215524e-07]], dtype=float32)"
            ]
          },
          "metadata": {},
          "execution_count": 15
        }
      ]
    },
    {
      "cell_type": "markdown",
      "source": [
        "Now we will be storing all the class labels each y_pred"
      ],
      "metadata": {
        "id": "0iKN7eKGMD96"
      },
      "id": "0iKN7eKGMD96"
    },
    {
      "cell_type": "code",
      "source": [
        "y_classes = [np.argmax(i) for i in y_pred]"
      ],
      "metadata": {
        "id": "yyzWQLIQj9_7"
      },
      "id": "yyzWQLIQj9_7",
      "execution_count": 16,
      "outputs": []
    },
    {
      "cell_type": "code",
      "source": [
        "y_classes[:5]"
      ],
      "metadata": {
        "colab": {
          "base_uri": "https://localhost:8080/"
        },
        "id": "1-xggDzkroNg",
        "outputId": "62047bf8-d3ec-4c7d-f1a2-060f55bae32d"
      },
      "id": "1-xggDzkroNg",
      "execution_count": 17,
      "outputs": [
        {
          "output_type": "execute_result",
          "data": {
            "text/plain": [
              "[3, 8, 8, 0, 6]"
            ]
          },
          "metadata": {},
          "execution_count": 17
        }
      ]
    },
    {
      "cell_type": "code",
      "source": [
        "y_test[:5]"
      ],
      "metadata": {
        "colab": {
          "base_uri": "https://localhost:8080/"
        },
        "id": "6swo5O7qkgi-",
        "outputId": "e084edae-5066-47fa-e4b3-ff6044ec00c5"
      },
      "id": "6swo5O7qkgi-",
      "execution_count": 18,
      "outputs": [
        {
          "output_type": "execute_result",
          "data": {
            "text/plain": [
              "array([3, 8, 8, 0, 6], dtype=uint8)"
            ]
          },
          "metadata": {},
          "execution_count": 18
        }
      ]
    },
    {
      "cell_type": "markdown",
      "source": [
        "### Classification report for CNN"
      ],
      "metadata": {
        "id": "f7iUA35vMNYP"
      },
      "id": "f7iUA35vMNYP"
    },
    {
      "cell_type": "code",
      "source": [
        "print(\"Classification Report: \\n-------------------------------------------------\\n\", classification_report(y_test, y_classes))"
      ],
      "metadata": {
        "colab": {
          "base_uri": "https://localhost:8080/"
        },
        "id": "_Gt89EBtkiU0",
        "outputId": "044eae51-389e-481b-9bec-a7e596876686"
      },
      "id": "_Gt89EBtkiU0",
      "execution_count": 19,
      "outputs": [
        {
          "output_type": "stream",
          "name": "stdout",
          "text": [
            "Classification Report: \n",
            "-------------------------------------------------\n",
            "               precision    recall  f1-score   support\n",
            "\n",
            "           0       0.77      0.65      0.71      1000\n",
            "           1       0.88      0.75      0.81      1000\n",
            "           2       0.59      0.54      0.57      1000\n",
            "           3       0.52      0.39      0.45      1000\n",
            "           4       0.57      0.72      0.64      1000\n",
            "           5       0.53      0.68      0.59      1000\n",
            "           6       0.72      0.80      0.75      1000\n",
            "           7       0.73      0.75      0.74      1000\n",
            "           8       0.84      0.75      0.79      1000\n",
            "           9       0.75      0.80      0.77      1000\n",
            "\n",
            "    accuracy                           0.68     10000\n",
            "   macro avg       0.69      0.68      0.68     10000\n",
            "weighted avg       0.69      0.68      0.68     10000\n",
            "\n"
          ]
        }
      ]
    },
    {
      "cell_type": "markdown",
      "source": [
        "## Linear Regression"
      ],
      "metadata": {
        "id": "qoGsHrAtLlq0"
      },
      "id": "qoGsHrAtLlq0"
    },
    {
      "cell_type": "markdown",
      "source": [
        "### Testing and Training Data\n",
        "The labels data has been flattened."
      ],
      "metadata": {
        "id": "izFKQg2eC3Lz"
      },
      "id": "izFKQg2eC3Lz"
    },
    {
      "cell_type": "code",
      "source": [
        "X = X_train.reshape(50000, 3*32*32)\n",
        "Xt = X_test.reshape(10000, 3*32*32)\n",
        "y = y_train.flatten()\n",
        "yt = y_test.flatten()"
      ],
      "metadata": {
        "id": "XQZvEY40V_rK"
      },
      "id": "XQZvEY40V_rK",
      "execution_count": 20,
      "outputs": []
    },
    {
      "cell_type": "markdown",
      "source": [
        "### Fitting the Linear Regression model to our data"
      ],
      "metadata": {
        "id": "xw3idK9fC_Wb"
      },
      "id": "xw3idK9fC_Wb"
    },
    {
      "cell_type": "code",
      "source": [
        "linreg = LogisticRegression(verbose=True)\n",
        "linreg.fit(X, y)"
      ],
      "metadata": {
        "id": "n1zKwHLNdGGX",
        "colab": {
          "base_uri": "https://localhost:8080/"
        },
        "outputId": "c5c15a24-0163-49f4-bfa7-eeb3edac6280"
      },
      "id": "n1zKwHLNdGGX",
      "execution_count": 21,
      "outputs": [
        {
          "output_type": "stream",
          "name": "stderr",
          "text": [
            "[Parallel(n_jobs=1)]: Using backend SequentialBackend with 1 concurrent workers.\n",
            "/usr/local/lib/python3.7/dist-packages/sklearn/linear_model/_logistic.py:818: ConvergenceWarning: lbfgs failed to converge (status=1):\n",
            "STOP: TOTAL NO. of ITERATIONS REACHED LIMIT.\n",
            "\n",
            "Increase the number of iterations (max_iter) or scale the data as shown in:\n",
            "    https://scikit-learn.org/stable/modules/preprocessing.html\n",
            "Please also refer to the documentation for alternative solver options:\n",
            "    https://scikit-learn.org/stable/modules/linear_model.html#logistic-regression\n",
            "  extra_warning_msg=_LOGISTIC_SOLVER_CONVERGENCE_MSG,\n",
            "[Parallel(n_jobs=1)]: Done   1 out of   1 | elapsed:  2.2min finished\n"
          ]
        },
        {
          "output_type": "execute_result",
          "data": {
            "text/plain": [
              "LogisticRegression(verbose=True)"
            ]
          },
          "metadata": {},
          "execution_count": 21
        }
      ]
    },
    {
      "cell_type": "code",
      "source": [
        "predicted = linreg.predict(X)"
      ],
      "metadata": {
        "id": "0L6L_vCU9Psk"
      },
      "id": "0L6L_vCU9Psk",
      "execution_count": 22,
      "outputs": []
    },
    {
      "cell_type": "code",
      "source": [
        "np.unique((y==0).astype(np.int8))"
      ],
      "metadata": {
        "colab": {
          "base_uri": "https://localhost:8080/"
        },
        "id": "W-5KhiWlBquV",
        "outputId": "480aba32-d9f1-45bd-c0cb-278444f73f70"
      },
      "id": "W-5KhiWlBquV",
      "execution_count": 23,
      "outputs": [
        {
          "output_type": "execute_result",
          "data": {
            "text/plain": [
              "array([0, 1], dtype=int8)"
            ]
          },
          "metadata": {},
          "execution_count": 23
        }
      ]
    },
    {
      "cell_type": "code",
      "source": [
        "predicted_r = np.round(predicted)"
      ],
      "metadata": {
        "id": "ZrwWmhofBrDP"
      },
      "id": "ZrwWmhofBrDP",
      "execution_count": 24,
      "outputs": []
    },
    {
      "cell_type": "markdown",
      "source": [
        "### Accuracy of Linear Regression for Training Data"
      ],
      "metadata": {
        "id": "X35VUoOpDHZG"
      },
      "id": "X35VUoOpDHZG"
    },
    {
      "cell_type": "code",
      "source": [
        "metrics.accuracy_score(y, predicted)"
      ],
      "metadata": {
        "colab": {
          "base_uri": "https://localhost:8080/"
        },
        "id": "RQhZI9PkBtWk",
        "outputId": "ecd8b923-c8f7-496e-867a-d0287870b692"
      },
      "id": "RQhZI9PkBtWk",
      "execution_count": 25,
      "outputs": [
        {
          "output_type": "execute_result",
          "data": {
            "text/plain": [
              "0.42922"
            ]
          },
          "metadata": {},
          "execution_count": 25
        }
      ]
    },
    {
      "cell_type": "code",
      "source": [
        "test_predicted = linreg.predict(Xt)"
      ],
      "metadata": {
        "id": "d2ztOEoxBvWq"
      },
      "id": "d2ztOEoxBvWq",
      "execution_count": 26,
      "outputs": []
    },
    {
      "cell_type": "markdown",
      "source": [
        "### Accuracy of Linear Regression for Testing Data"
      ],
      "metadata": {
        "id": "ca6fBSbDDMkB"
      },
      "id": "ca6fBSbDDMkB"
    },
    {
      "cell_type": "code",
      "source": [
        "AccLG = metrics.accuracy_score(yt, test_predicted)\n",
        "AccLG"
      ],
      "metadata": {
        "colab": {
          "base_uri": "https://localhost:8080/"
        },
        "id": "ygudY5X1Bxda",
        "outputId": "9ec7f5f8-f2ad-42bb-9bb7-c4cc037cad46"
      },
      "id": "ygudY5X1Bxda",
      "execution_count": 39,
      "outputs": [
        {
          "output_type": "execute_result",
          "data": {
            "text/plain": [
              "0.4063"
            ]
          },
          "metadata": {},
          "execution_count": 39
        }
      ]
    },
    {
      "cell_type": "markdown",
      "source": [
        "# Comparing CNN and Linear Regression Results"
      ],
      "metadata": {
        "id": "nDCTYFT8DR5Y"
      },
      "id": "nDCTYFT8DR5Y"
    },
    {
      "cell_type": "code",
      "source": [
        "print(\"Accuracy from Linear Regression is: \", round(AccLG*100, 2), \"%\")\n",
        "print(\"Accuracy from Convolutional NN is: \", round(AccCNN*100, 2), \"%\")"
      ],
      "metadata": {
        "colab": {
          "base_uri": "https://localhost:8080/"
        },
        "id": "vrokDfajBzR7",
        "outputId": "b1b8f936-f3b2-465f-cde6-ee88dfef91c6"
      },
      "id": "vrokDfajBzR7",
      "execution_count": 41,
      "outputs": [
        {
          "output_type": "stream",
          "name": "stdout",
          "text": [
            "Accuracy from Linear Regression is:  40.63 %\n",
            "Accuracy from Convolutional NN is:  68.27 %\n"
          ]
        }
      ]
    },
    {
      "cell_type": "code",
      "source": [
        "AccLG = round(AccLG*100, 2)\n",
        "AccCNN = round(AccCNN*100, 2)\n",
        "labels = ['Logistics Regression','Convolutional Neural Network']\n",
        "values = [AccLG, AccCNN]"
      ],
      "metadata": {
        "id": "5R85RDwhHfT-"
      },
      "id": "5R85RDwhHfT-",
      "execution_count": 58,
      "outputs": []
    },
    {
      "cell_type": "code",
      "source": [
        "plt.bar(labels, values, color = ['brown', 'yellow'])\n",
        "plt.xlabel('Machine learning Models', weight='bold')\n",
        "plt.ylabel(\"Accuracy of the model\", weight='bold')\n",
        "plt.title(\"Accuracy of Logistics Regression & Convolutional Neural Network\", weight='bold')\n",
        "plt.show()"
      ],
      "metadata": {
        "id": "9K8-5HpmH7Po",
        "colab": {
          "base_uri": "https://localhost:8080/",
          "height": 257
        },
        "outputId": "0388aba1-dc83-42ac-f397-1793cab8d913"
      },
      "id": "9K8-5HpmH7Po",
      "execution_count": 60,
      "outputs": [
        {
          "output_type": "display_data",
          "data": {
            "text/plain": [
              "<Figure size 504x252 with 1 Axes>"
            ],
            "image/png": "[encoded data removed]"
          },
          "metadata": {}
        }
      ]
    },
    {
      "cell_type": "code",
      "source": [
        ""
      ],
      "metadata": {
        "id": "eD3_WR_iSgtl"
      },
      "id": "eD3_WR_iSgtl",
      "execution_count": null,
      "outputs": []
    }
  ],
  "metadata": {
    "kernelspec": {
      "display_name": "Python 3",
      "language": "python",
      "name": "python3"
    },
    "language_info": {
      "codemirror_mode": {
        "name": "ipython",
        "version": 3
      },
      "file_extension": ".py",
      "mimetype": "text/x-python",
      "name": "python",
      "nbconvert_exporter": "python",
      "pygments_lexer": "ipython3",
      "version": "3.8.8"
    },
    "colab": {
      "name": "i191712_Assignment3.ipynb",
      "provenance": [],
      "collapsed_sections": [],
      "include_colab_link": true
    },
    "accelerator": "TPU"
  },
  "nbformat": 4,
  "nbformat_minor": 5
}