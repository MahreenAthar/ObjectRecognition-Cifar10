{
  "cells": [
    {
      "cell_type": "markdown",
      "metadata": {
        "id": "view-in-github",
        "colab_type": "text"
      },
      "source": [
        "<a href=\"https://colab.research.google.com/github/MahreenAthar/ObjectRecognition-Cifar10/blob/main/i191712_Assignment3.ipynb\" target=\"_parent\"><img src=\"https://colab.research.google.com/assets/colab-badge.svg\" alt=\"Open In Colab\"/></a>"
      ]
    },
    {
      "cell_type": "markdown",
      "source": [
        "# Importing Libraries"
      ],
      "metadata": {
        "id": "g4UvPGxZvtFu"
      },
      "id": "g4UvPGxZvtFu"
    },
    {
      "cell_type": "code",
      "execution_count": 2,
      "id": "09ac3f20",
      "metadata": {
        "id": "09ac3f20"
      },
      "outputs": [],
      "source": [
        "import tensorflow as tf\n",
        "from tensorflow.keras import datasets, layers, models\n",
        "import matplotlib.pyplot as plt\n",
        "import random\n",
        "from sklearn import metrics\n",
        "from sklearn.linear_model import LinearRegression\n",
        "from sklearn.linear_model import LogisticRegression\n",
        "from sklearn.metrics import confusion_matrix, classification_report\n",
        "import numpy as np\n",
        "import pandas as pd\n",
        "from sklearn.cluster import KMeans\n",
        "# from sklearn.preprocessing import OneHotEncoder\n",
        "from sklearn.datasets import make_blobs\n",
        "from yellowbrick.cluster import KElbowVisualizer"
      ]
    },
    {
      "cell_type": "markdown",
      "source": [
        "## Splitting data into train and test"
      ],
      "metadata": {
        "id": "lHiiczVWxiKr"
      },
      "id": "lHiiczVWxiKr"
    },
    {
      "cell_type": "code",
      "execution_count": 3,
      "id": "783d5448",
      "metadata": {
        "colab": {
          "base_uri": "https://localhost:8080/"
        },
        "id": "783d5448",
        "outputId": "2b6f412d-447a-40cb-8d24-1bcaa1d5834c"
      },
      "outputs": [
        {
          "output_type": "stream",
          "name": "stdout",
          "text": [
            "Downloading data from https://www.cs.toronto.edu/~kriz/cifar-10-python.tar.gz\n",
            "170500096/170498071 [==============================] - 4s 0us/step\n",
            "170508288/170498071 [==============================] - 4s 0us/step\n"
          ]
        }
      ],
      "source": [
        "(X_train, y_train), (X_test, y_test) = datasets.cifar10.load_data()"
      ]
    },
    {
      "cell_type": "markdown",
      "source": [
        "## Performing Exploratory Data Analysis"
      ],
      "metadata": {
        "id": "G3YRmOhk2IhX"
      },
      "id": "G3YRmOhk2IhX"
    },
    {
      "cell_type": "markdown",
      "source": [
        "### Checking shape of training and testing data"
      ],
      "metadata": {
        "id": "Dp7u5JujxoEG"
      },
      "id": "Dp7u5JujxoEG"
    },
    {
      "cell_type": "code",
      "execution_count": 4,
      "id": "f0988451",
      "metadata": {
        "colab": {
          "base_uri": "https://localhost:8080/"
        },
        "id": "f0988451",
        "outputId": "7e7e45a5-b86f-43f2-a4f4-ecb8f8ec28ea"
      },
      "outputs": [
        {
          "output_type": "stream",
          "name": "stdout",
          "text": [
            "X_train shape:  (50000, 32, 32, 3)\n",
            "y_train shape:  (50000, 1)\n",
            "X_test shape:  (10000, 32, 32, 3)\n",
            "Xy_test shape:  (10000, 1)\n"
          ]
        }
      ],
      "source": [
        "print(\"X_train shape: \", X_train.shape)\n",
        "print(\"y_train shape: \", y_train.shape)\n",
        "print(\"X_test shape: \", X_test.shape)\n",
        "print(\"Xy_test shape: \", y_test.shape)\n",
        "# To check a sample image (from X_train) uncomment the line below\n",
        "# X_train[0]\n",
        "# To check a sample label (from y_train) uncomment the line below\n",
        "# y_train[0]"
      ]
    },
    {
      "cell_type": "markdown",
      "source": [
        "Checking values contained in the y_train. Here we see that y_train is actually a 2D array."
      ],
      "metadata": {
        "id": "zKpAJwYHxujp"
      },
      "id": "zKpAJwYHxujp"
    },
    {
      "cell_type": "code",
      "source": [
        "y_train[:6]"
      ],
      "metadata": {
        "colab": {
          "base_uri": "https://localhost:8080/"
        },
        "id": "bb3l049woitO",
        "outputId": "d5171ab0-f5a9-4037-9ee9-373e41b90d93"
      },
      "id": "bb3l049woitO",
      "execution_count": 5,
      "outputs": [
        {
          "output_type": "execute_result",
          "data": {
            "text/plain": [
              "array([[6],\n",
              "       [9],\n",
              "       [9],\n",
              "       [4],\n",
              "       [1],\n",
              "       [1]], dtype=uint8)"
            ]
          },
          "metadata": {},
          "execution_count": 5
        }
      ]
    },
    {
      "cell_type": "markdown",
      "source": [
        "Now we don't want each y_train to be a 2D array, there's no need for this so we will reshape it and convert it into 1D array and also the y_test dataset."
      ],
      "metadata": {
        "id": "NNrq6xgex8rS"
      },
      "id": "NNrq6xgex8rS"
    },
    {
      "cell_type": "code",
      "source": [
        "y_train = y_train.reshape(-1,)\n",
        "y_train[:5]\n",
        "y_test = y_test.reshape(-1,)\n",
        "y_test[:5]"
      ],
      "metadata": {
        "colab": {
          "base_uri": "https://localhost:8080/"
        },
        "id": "szB3wWfQpAxo",
        "outputId": "1f463622-66fe-41e7-8863-ae03baaae543"
      },
      "id": "szB3wWfQpAxo",
      "execution_count": 6,
      "outputs": [
        {
          "output_type": "execute_result",
          "data": {
            "text/plain": [
              "array([3, 8, 8, 0, 6], dtype=uint8)"
            ]
          },
          "metadata": {},
          "execution_count": 6
        }
      ]
    },
    {
      "cell_type": "markdown",
      "source": [
        "The output (above) shows that y_train now is a 1D array that consists of numbers ranging from 0-9. There values represent the class label (classLabels list in below cell)."
      ],
      "metadata": {
        "id": "wXXuTQRbyU-H"
      },
      "id": "wXXuTQRbyU-H"
    },
    {
      "cell_type": "markdown",
      "source": [
        "### Defining an image displaying function.\n",
        "This function displays the image and it's label. By default a random value from 0-50,000 is being passed to the function (since there are 50,000 images in the training data) but any index can be manually passed to the function. "
      ],
      "metadata": {
        "id": "sADqXGvtynIP"
      },
      "id": "sADqXGvtynIP"
    },
    {
      "cell_type": "code",
      "source": [
        "classLabels = [\"airplane\", \"automobile\", \"bird\", \"cat\", \"deer\", \"dog\", \"frog\", \"horse\", \"ship\", \"truck\"]\n",
        "# print(y_train[0], classLabels[y_train[0]])\n",
        "\n",
        "def plotImageSample(X, y, index):\n",
        "  plt.figure(figsize = (10, 2))\n",
        "  plt.imshow(X[index])\n",
        "  plt.xlabel(classLabels[y[index]], weight=\"bold\")\n",
        "\n",
        "randomImageNumber = np.random.randint(1, 50000)\n",
        "plotImageSample(X_train, y_train, randomImageNumber)"
      ],
      "metadata": {
        "colab": {
          "base_uri": "https://localhost:8080/",
          "height": 173
        },
        "id": "4sTtYeNUnGK8",
        "outputId": "2888dd4d-0815-4728-b926-9a547df06aaa"
      },
      "id": "4sTtYeNUnGK8",
      "execution_count": 7,
      "outputs": [
        {
          "output_type": "display_data",
          "data": {
            "text/plain": [
              "<Figure size 720x144 with 1 Axes>"
            ],
            "image/png": "[encoded data removed]"
          },
          "metadata": {}
        }
      ]
    },
    {
      "cell_type": "markdown",
      "source": [
        "### Normalizing RGB values\n",
        "All RGB values range from 0-255, we wil be normalizing each pixel value by dividing it by 255 so all pixel values will range from 0-1."
      ],
      "metadata": {
        "id": "5x23cHu1zJyv"
      },
      "id": "5x23cHu1zJyv"
    },
    {
      "cell_type": "code",
      "source": [
        "X_train = X_train / 255\n",
        "X_test = X_test / 255"
      ],
      "metadata": {
        "id": "OYezu1WUqyA6"
      },
      "id": "OYezu1WUqyA6",
      "execution_count": 8,
      "outputs": []
    },
    {
      "cell_type": "code",
      "source": [
        "X_train[0]"
      ],
      "metadata": {
        "colab": {
          "base_uri": "https://localhost:8080/"
        },
        "id": "Lq3zX2S-ziJ0",
        "outputId": "34c2fab1-d98a-4327-ddaa-5391d6451f6f"
      },
      "id": "Lq3zX2S-ziJ0",
      "execution_count": 9,
      "outputs": [
        {
          "output_type": "execute_result",
          "data": {
            "text/plain": [
              "array([[[0.23137255, 0.24313725, 0.24705882],\n",
              "        [0.16862745, 0.18039216, 0.17647059],\n",
              "        [0.19607843, 0.18823529, 0.16862745],\n",
              "        ...,\n",
              "        [0.61960784, 0.51764706, 0.42352941],\n",
              "        [0.59607843, 0.49019608, 0.4       ],\n",
              "        [0.58039216, 0.48627451, 0.40392157]],\n",
              "\n",
              "       [[0.0627451 , 0.07843137, 0.07843137],\n",
              "        [0.        , 0.        , 0.        ],\n",
              "        [0.07058824, 0.03137255, 0.        ],\n",
              "        ...,\n",
              "        [0.48235294, 0.34509804, 0.21568627],\n",
              "        [0.46666667, 0.3254902 , 0.19607843],\n",
              "        [0.47843137, 0.34117647, 0.22352941]],\n",
              "\n",
              "       [[0.09803922, 0.09411765, 0.08235294],\n",
              "        [0.0627451 , 0.02745098, 0.        ],\n",
              "        [0.19215686, 0.10588235, 0.03137255],\n",
              "        ...,\n",
              "        [0.4627451 , 0.32941176, 0.19607843],\n",
              "        [0.47058824, 0.32941176, 0.19607843],\n",
              "        [0.42745098, 0.28627451, 0.16470588]],\n",
              "\n",
              "       ...,\n",
              "\n",
              "       [[0.81568627, 0.66666667, 0.37647059],\n",
              "        [0.78823529, 0.6       , 0.13333333],\n",
              "        [0.77647059, 0.63137255, 0.10196078],\n",
              "        ...,\n",
              "        [0.62745098, 0.52156863, 0.2745098 ],\n",
              "        [0.21960784, 0.12156863, 0.02745098],\n",
              "        [0.20784314, 0.13333333, 0.07843137]],\n",
              "\n",
              "       [[0.70588235, 0.54509804, 0.37647059],\n",
              "        [0.67843137, 0.48235294, 0.16470588],\n",
              "        [0.72941176, 0.56470588, 0.11764706],\n",
              "        ...,\n",
              "        [0.72156863, 0.58039216, 0.36862745],\n",
              "        [0.38039216, 0.24313725, 0.13333333],\n",
              "        [0.3254902 , 0.20784314, 0.13333333]],\n",
              "\n",
              "       [[0.69411765, 0.56470588, 0.45490196],\n",
              "        [0.65882353, 0.50588235, 0.36862745],\n",
              "        [0.70196078, 0.55686275, 0.34117647],\n",
              "        ...,\n",
              "        [0.84705882, 0.72156863, 0.54901961],\n",
              "        [0.59215686, 0.4627451 , 0.32941176],\n",
              "        [0.48235294, 0.36078431, 0.28235294]]])"
            ]
          },
          "metadata": {},
          "execution_count": 9
        }
      ]
    },
    {
      "cell_type": "markdown",
      "source": [
        "## Convolutional Neural Network"
      ],
      "metadata": {
        "id": "xT2XiCF419zH"
      },
      "id": "xT2XiCF419zH"
    },
    {
      "cell_type": "code",
      "source": [
        "CNN = models.Sequential([\n",
        "    # CNN layers => Convolution Layers + ReLU -> Pooling Layer -> COnv + ReLU -> Pooling \n",
        "    # Convolution layer for extracting the features\n",
        "    # ReLU as the activation function\n",
        "    # MaxPooling for dimension reduction and position-invarience feature detection\n",
        "    layers.Conv2D(filters=27, kernel_size=(3, 3), activation='relu', input_shape=(32, 32, 3)),\n",
        "    layers.MaxPooling2D((2, 2)),\n",
        "\n",
        "    layers.Conv2D(filters=57, kernel_size=(3, 3), activation='relu'),\n",
        "    layers.MaxPooling2D((2, 2)),\n",
        "\n",
        "    # Dense neural network\n",
        "    layers.Flatten(),\n",
        "    layers.Dense(57, activation='relu'),\n",
        "    layers.Dense(10, activation='softmax')\n",
        "])"
      ],
      "metadata": {
        "id": "fVm5-hTLzk_G"
      },
      "id": "fVm5-hTLzk_G",
      "execution_count": null,
      "outputs": []
    },
    {
      "cell_type": "markdown",
      "source": [
        "### Compiling, Fitting & Evaluating the CNN Model "
      ],
      "metadata": {
        "id": "_SHwDXDf_EpH"
      },
      "id": "_SHwDXDf_EpH"
    },
    {
      "cell_type": "code",
      "source": [
        "CNN.compile(\n",
        "    optimizer='adam',\n",
        "    loss = 'sparse_categorical_crossentropy',\n",
        "    metrics=['Accuracy']\n",
        ")"
      ],
      "metadata": {
        "id": "B8gayEmV-mvq"
      },
      "id": "B8gayEmV-mvq",
      "execution_count": null,
      "outputs": []
    },
    {
      "cell_type": "code",
      "source": [
        "CNN.fit(X_train, y_train, epochs=15)"
      ],
      "metadata": {
        "colab": {
          "base_uri": "https://localhost:8080/"
        },
        "id": "xQqhr5Hr_jkP",
        "outputId": "fcea7799-a1d3-42fa-b4b4-7fd31a1fdf7d"
      },
      "id": "xQqhr5Hr_jkP",
      "execution_count": null,
      "outputs": [
        {
          "output_type": "stream",
          "name": "stdout",
          "text": [
            "Epoch 1/15\n",
            "1563/1563 [==============================] - 60s 38ms/step - loss: 1.4932 - Accuracy: 0.4634\n",
            "Epoch 2/15\n",
            "1563/1563 [==============================] - 60s 38ms/step - loss: 1.1100 - Accuracy: 0.6123\n",
            "Epoch 3/15\n",
            "1563/1563 [==============================] - 58s 37ms/step - loss: 0.9798 - Accuracy: 0.6573\n",
            "Epoch 4/15\n",
            "1563/1563 [==============================] - 59s 38ms/step - loss: 0.9036 - Accuracy: 0.6842\n",
            "Epoch 5/15\n",
            "1563/1563 [==============================] - 58s 37ms/step - loss: 0.8445 - Accuracy: 0.7079\n",
            "Epoch 6/15\n",
            "1563/1563 [==============================] - 58s 37ms/step - loss: 0.7983 - Accuracy: 0.7232\n",
            "Epoch 7/15\n",
            "1563/1563 [==============================] - 58s 37ms/step - loss: 0.7558 - Accuracy: 0.7374\n",
            "Epoch 8/15\n",
            "1563/1563 [==============================] - 58s 37ms/step - loss: 0.7189 - Accuracy: 0.7491\n",
            "Epoch 9/15\n",
            "1563/1563 [==============================] - 58s 37ms/step - loss: 0.6843 - Accuracy: 0.7618\n",
            "Epoch 10/15\n",
            "1563/1563 [==============================] - 58s 37ms/step - loss: 0.6550 - Accuracy: 0.7711\n",
            "Epoch 11/15\n",
            "1563/1563 [==============================] - 58s 37ms/step - loss: 0.6238 - Accuracy: 0.7820\n",
            "Epoch 12/15\n",
            "1563/1563 [==============================] - 58s 37ms/step - loss: 0.5959 - Accuracy: 0.7908\n",
            "Epoch 13/15\n",
            "1563/1563 [==============================] - 58s 37ms/step - loss: 0.5685 - Accuracy: 0.8012\n",
            "Epoch 14/15\n",
            "1563/1563 [==============================] - 58s 37ms/step - loss: 0.5398 - Accuracy: 0.8103\n",
            "Epoch 15/15\n",
            "1563/1563 [==============================] - 58s 37ms/step - loss: 0.5157 - Accuracy: 0.8179\n"
          ]
        },
        {
          "output_type": "execute_result",
          "data": {
            "text/plain": [
              "<keras.callbacks.History at 0x7f51ac359b50>"
            ]
          },
          "metadata": {},
          "execution_count": 23
        }
      ]
    },
    {
      "cell_type": "code",
      "source": [
        "CNN.evaluate(X_test, y_test)"
      ],
      "metadata": {
        "colab": {
          "base_uri": "https://localhost:8080/"
        },
        "id": "2UfD-GATGkkM",
        "outputId": "4f00109f-f69b-496b-8fa6-f08ad2664c52"
      },
      "id": "2UfD-GATGkkM",
      "execution_count": null,
      "outputs": [
        {
          "output_type": "stream",
          "name": "stdout",
          "text": [
            "313/313 [==============================] - 4s 12ms/step - loss: 0.9832 - Accuracy: 0.6951\n"
          ]
        },
        {
          "output_type": "execute_result",
          "data": {
            "text/plain": [
              "[0.9832061529159546, 0.6951000094413757]"
            ]
          },
          "metadata": {},
          "execution_count": 24
        }
      ]
    },
    {
      "cell_type": "code",
      "source": [
        "plotImageSample(X_test, y_test, 1)"
      ],
      "metadata": {
        "colab": {
          "base_uri": "https://localhost:8080/",
          "height": 173
        },
        "id": "f-AnY0qQjSiu",
        "outputId": "09c73ffc-2c28-4142-eec9-6978bd3cd5ef"
      },
      "id": "f-AnY0qQjSiu",
      "execution_count": null,
      "outputs": [
        {
          "output_type": "display_data",
          "data": {
            "text/plain": [
              "<Figure size 720x144 with 1 Axes>"
            ],
            "image/png": "[encoded data removed]"
          },
          "metadata": {
            "needs_background": "light"
          }
        }
      ]
    },
    {
      "cell_type": "code",
      "source": [
        "y_pred = CNN.predict(X_test)\n",
        "y_pred[:5]"
      ],
      "metadata": {
        "colab": {
          "base_uri": "https://localhost:8080/"
        },
        "id": "Ajt9q1MDjkjC",
        "outputId": "3373c65a-5b0c-4734-8e7d-577b80098ad2"
      },
      "id": "Ajt9q1MDjkjC",
      "execution_count": null,
      "outputs": [
        {
          "output_type": "execute_result",
          "data": {
            "text/plain": [
              "array([[2.3817013e-03, 4.6199839e-05, 3.2500688e-03, 9.3451202e-01,\n",
              "        6.5447148e-03, 5.1634241e-02, 1.4273748e-03, 1.3945982e-04,\n",
              "        4.9324375e-05, 1.4960949e-05],\n",
              "       [3.8926519e-04, 1.3179891e-03, 4.7140358e-07, 1.3528858e-09,\n",
              "        3.9260464e-10, 3.6219054e-09, 4.3958497e-13, 1.0874150e-08,\n",
              "        9.9828523e-01, 6.9770172e-06],\n",
              "       [2.4874453e-02, 7.9538757e-01, 3.8644110e-04, 9.7413053e-04,\n",
              "        3.1060821e-04, 2.6681417e-04, 4.8892423e-05, 1.2426893e-02,\n",
              "        9.1006577e-02, 7.4317671e-02],\n",
              "       [5.2800500e-01, 6.6993390e-03, 5.2085515e-02, 5.7864795e-04,\n",
              "        1.5267527e-02, 6.9512353e-06, 3.0490610e-05, 2.6138837e-04,\n",
              "        3.9682657e-01, 2.3849341e-04],\n",
              "       [2.1622864e-06, 2.4111894e-05, 1.9070914e-02, 1.1196884e-01,\n",
              "        4.5276427e-01, 1.8268952e-02, 3.9788729e-01, 4.3371761e-06,\n",
              "        6.8534323e-06, 2.2038153e-06]], dtype=float32)"
            ]
          },
          "metadata": {},
          "execution_count": 26
        }
      ]
    },
    {
      "cell_type": "markdown",
      "source": [
        "Now we will be storing all the class labels each y_pred"
      ],
      "metadata": {
        "id": "0iKN7eKGMD96"
      },
      "id": "0iKN7eKGMD96"
    },
    {
      "cell_type": "code",
      "source": [
        "y_classes = [np.argmax(i) for i in y_pred]"
      ],
      "metadata": {
        "id": "yyzWQLIQj9_7"
      },
      "id": "yyzWQLIQj9_7",
      "execution_count": null,
      "outputs": []
    },
    {
      "cell_type": "code",
      "source": [
        "y_classes[:5]"
      ],
      "metadata": {
        "colab": {
          "base_uri": "https://localhost:8080/"
        },
        "id": "1-xggDzkroNg",
        "outputId": "5d02b83d-f89d-4e17-cf1d-80462075d7f2"
      },
      "id": "1-xggDzkroNg",
      "execution_count": null,
      "outputs": [
        {
          "output_type": "execute_result",
          "data": {
            "text/plain": [
              "[3, 8, 1, 0, 4]"
            ]
          },
          "metadata": {},
          "execution_count": 28
        }
      ]
    },
    {
      "cell_type": "code",
      "source": [
        "y_test[:5]"
      ],
      "metadata": {
        "colab": {
          "base_uri": "https://localhost:8080/"
        },
        "id": "6swo5O7qkgi-",
        "outputId": "b8049042-dc25-46bc-8cd4-98d1d18cc549"
      },
      "id": "6swo5O7qkgi-",
      "execution_count": null,
      "outputs": [
        {
          "output_type": "execute_result",
          "data": {
            "text/plain": [
              "array([3, 8, 8, 0, 6], dtype=uint8)"
            ]
          },
          "metadata": {},
          "execution_count": 29
        }
      ]
    },
    {
      "cell_type": "markdown",
      "source": [
        "### Classification report for CNN"
      ],
      "metadata": {
        "id": "f7iUA35vMNYP"
      },
      "id": "f7iUA35vMNYP"
    },
    {
      "cell_type": "code",
      "source": [
        "print(\"Classification Report: \\n-------------------------------------------------\\n\", classification_report(y_test, y_classes))"
      ],
      "metadata": {
        "colab": {
          "base_uri": "https://localhost:8080/"
        },
        "id": "_Gt89EBtkiU0",
        "outputId": "8e624a2d-4788-4f91-966f-44403ce72152"
      },
      "id": "_Gt89EBtkiU0",
      "execution_count": null,
      "outputs": [
        {
          "output_type": "stream",
          "name": "stdout",
          "text": [
            "Classification Report: \n",
            "-------------------------------------------------\n",
            "               precision    recall  f1-score   support\n",
            "\n",
            "           0       0.71      0.72      0.71      1000\n",
            "           1       0.80      0.84      0.82      1000\n",
            "           2       0.61      0.57      0.59      1000\n",
            "           3       0.52      0.47      0.49      1000\n",
            "           4       0.70      0.57      0.63      1000\n",
            "           5       0.56      0.62      0.59      1000\n",
            "           6       0.78      0.79      0.78      1000\n",
            "           7       0.71      0.77      0.73      1000\n",
            "           8       0.77      0.83      0.80      1000\n",
            "           9       0.77      0.78      0.78      1000\n",
            "\n",
            "    accuracy                           0.70     10000\n",
            "   macro avg       0.69      0.70      0.69     10000\n",
            "weighted avg       0.69      0.70      0.69     10000\n",
            "\n"
          ]
        }
      ]
    },
    {
      "cell_type": "markdown",
      "source": [
        "## Linear Regression"
      ],
      "metadata": {
        "id": "qoGsHrAtLlq0"
      },
      "id": "qoGsHrAtLlq0"
    },
    {
      "cell_type": "code",
      "source": [
        "X = X_train.reshape(50000, 3*32*32)\n",
        "Xt = X_test.reshape(10000, 3*32*32)\n",
        "y = y_train.flatten()\n",
        "yt = y_test.flatten()"
      ],
      "metadata": {
        "id": "XQZvEY40V_rK"
      },
      "id": "XQZvEY40V_rK",
      "execution_count": 10,
      "outputs": []
    },
    {
      "cell_type": "code",
      "source": [
        "linreg = LogisticRegression(verbose=True)\n",
        "linreg.fit(X, y)"
      ],
      "metadata": {
        "id": "n1zKwHLNdGGX",
        "colab": {
          "base_uri": "https://localhost:8080/"
        },
        "outputId": "887c66d4-6e9d-4927-df22-0905916b25ab"
      },
      "id": "n1zKwHLNdGGX",
      "execution_count": 11,
      "outputs": [
        {
          "output_type": "stream",
          "name": "stderr",
          "text": [
            "[Parallel(n_jobs=1)]: Using backend SequentialBackend with 1 concurrent workers.\n",
            "/usr/local/lib/python3.7/dist-packages/sklearn/linear_model/_logistic.py:818: ConvergenceWarning: lbfgs failed to converge (status=1):\n",
            "STOP: TOTAL NO. of ITERATIONS REACHED LIMIT.\n",
            "\n",
            "Increase the number of iterations (max_iter) or scale the data as shown in:\n",
            "    https://scikit-learn.org/stable/modules/preprocessing.html\n",
            "Please also refer to the documentation for alternative solver options:\n",
            "    https://scikit-learn.org/stable/modules/linear_model.html#logistic-regression\n",
            "  extra_warning_msg=_LOGISTIC_SOLVER_CONVERGENCE_MSG,\n",
            "[Parallel(n_jobs=1)]: Done   1 out of   1 | elapsed:  2.2min finished\n"
          ]
        },
        {
          "output_type": "execute_result",
          "data": {
            "text/plain": [
              "LogisticRegression(verbose=True)"
            ]
          },
          "metadata": {},
          "execution_count": 11
        }
      ]
    },
    {
      "cell_type": "code",
      "source": [
        "predicted = linreg.predict(X)"
      ],
      "metadata": {
        "id": "0L6L_vCU9Psk"
      },
      "id": "0L6L_vCU9Psk",
      "execution_count": 12,
      "outputs": []
    },
    {
      "cell_type": "code",
      "source": [
        "np.unique((y==0).astype(np.int8))"
      ],
      "metadata": {
        "colab": {
          "base_uri": "https://localhost:8080/"
        },
        "id": "W-5KhiWlBquV",
        "outputId": "98d6274b-ee63-4c7c-ab04-d213806f6a6d"
      },
      "id": "W-5KhiWlBquV",
      "execution_count": 13,
      "outputs": [
        {
          "output_type": "execute_result",
          "data": {
            "text/plain": [
              "array([0, 1], dtype=int8)"
            ]
          },
          "metadata": {},
          "execution_count": 13
        }
      ]
    },
    {
      "cell_type": "code",
      "source": [
        "predicted_r = np.round(predicted)"
      ],
      "metadata": {
        "id": "ZrwWmhofBrDP"
      },
      "id": "ZrwWmhofBrDP",
      "execution_count": 14,
      "outputs": []
    },
    {
      "cell_type": "code",
      "source": [
        "metrics.accuracy_score(y, predicted)"
      ],
      "metadata": {
        "colab": {
          "base_uri": "https://localhost:8080/"
        },
        "id": "RQhZI9PkBtWk",
        "outputId": "f54a358c-4529-4632-efc1-60d290c86199"
      },
      "id": "RQhZI9PkBtWk",
      "execution_count": 15,
      "outputs": [
        {
          "output_type": "execute_result",
          "data": {
            "text/plain": [
              "0.42922"
            ]
          },
          "metadata": {},
          "execution_count": 15
        }
      ]
    },
    {
      "cell_type": "code",
      "source": [
        "test_predicted = linreg.predict(Xt)"
      ],
      "metadata": {
        "id": "d2ztOEoxBvWq"
      },
      "id": "d2ztOEoxBvWq",
      "execution_count": 16,
      "outputs": []
    },
    {
      "cell_type": "code",
      "source": [
        "metrics.accuracy_score(yt, test_predicted)"
      ],
      "metadata": {
        "colab": {
          "base_uri": "https://localhost:8080/"
        },
        "id": "ygudY5X1Bxda",
        "outputId": "0489ef86-9f27-4439-bccc-b1905a5b0434"
      },
      "id": "ygudY5X1Bxda",
      "execution_count": 17,
      "outputs": [
        {
          "output_type": "execute_result",
          "data": {
            "text/plain": [
              "0.4063"
            ]
          },
          "metadata": {},
          "execution_count": 17
        }
      ]
    },
    {
      "cell_type": "code",
      "source": [
        ""
      ],
      "metadata": {
        "id": "vrokDfajBzR7"
      },
      "id": "vrokDfajBzR7",
      "execution_count": null,
      "outputs": []
    }
  ],
  "metadata": {
    "kernelspec": {
      "display_name": "Python 3",
      "language": "python",
      "name": "python3"
    },
    "language_info": {
      "codemirror_mode": {
        "name": "ipython",
        "version": 3
      },
      "file_extension": ".py",
      "mimetype": "text/x-python",
      "name": "python",
      "nbconvert_exporter": "python",
      "pygments_lexer": "ipython3",
      "version": "3.8.8"
    },
    "colab": {
      "name": "i191712_Assignment3.ipynb",
      "provenance": [],
      "collapsed_sections": [],
      "include_colab_link": true
    },
    "accelerator": "TPU"
  },
  "nbformat": 4,
  "nbformat_minor": 5
}