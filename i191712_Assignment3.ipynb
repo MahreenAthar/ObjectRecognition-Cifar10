{
  "cells": [
    {
      "cell_type": "markdown",
      "metadata": {
        "id": "view-in-github",
        "colab_type": "text"
      },
      "source": [
        "<a href=\"https://colab.research.google.com/github/MahreenAthar/ObjectRecognition-Cifar10/blob/main/i191712_Assignment3.ipynb\" target=\"_parent\"><img src=\"https://colab.research.google.com/assets/colab-badge.svg\" alt=\"Open In Colab\"/></a>"
      ]
    },
    {
      "cell_type": "markdown",
      "source": [
        "# Importing Libraries"
      ],
      "metadata": {
        "id": "g4UvPGxZvtFu"
      },
      "id": "g4UvPGxZvtFu"
    },
    {
      "cell_type": "code",
      "execution_count": 31,
      "id": "09ac3f20",
      "metadata": {
        "id": "09ac3f20"
      },
      "outputs": [],
      "source": [
        "import tensorflow as tf\n",
        "from tensorflow.keras import datasets, layers, models\n",
        "import matplotlib.pyplot as plt\n",
        "import numpy as np\n",
        "import random"
      ]
    },
    {
      "cell_type": "markdown",
      "source": [
        "# Splitting data into train and test"
      ],
      "metadata": {
        "id": "lHiiczVWxiKr"
      },
      "id": "lHiiczVWxiKr"
    },
    {
      "cell_type": "code",
      "execution_count": 4,
      "id": "783d5448",
      "metadata": {
        "id": "783d5448"
      },
      "outputs": [],
      "source": [
        "(X_train, y_train), (X_test, y_test) = datasets.cifar10.load_data()"
      ]
    },
    {
      "cell_type": "markdown",
      "source": [
        "## Checking shape of training and testing data"
      ],
      "metadata": {
        "id": "Dp7u5JujxoEG"
      },
      "id": "Dp7u5JujxoEG"
    },
    {
      "cell_type": "code",
      "execution_count": 29,
      "id": "f0988451",
      "metadata": {
        "colab": {
          "base_uri": "https://localhost:8080/"
        },
        "id": "f0988451",
        "outputId": "78ac6fdd-5420-41dc-cde5-b8ebff58905c"
      },
      "outputs": [
        {
          "output_type": "stream",
          "name": "stdout",
          "text": [
            "X_train shape:  (50000, 32, 32, 3)\n",
            "y_train shape:  (50000,)\n",
            "X_test shape:  (10000, 32, 32, 3)\n",
            "Xy_test shape:  (10000, 1)\n"
          ]
        }
      ],
      "source": [
        "print(\"X_train shape: \", X_train.shape)\n",
        "print(\"y_train shape: \", y_train.shape)\n",
        "print(\"X_test shape: \", X_test.shape)\n",
        "print(\"Xy_test shape: \", y_test.shape)\n",
        "# To check a sample image (from X_train) uncomment the line below\n",
        "# X_train[0]\n",
        "# To check a sample label (from y_train) uncomment the line below\n",
        "# y_train[0]"
      ]
    },
    {
      "cell_type": "markdown",
      "source": [
        "Checking values contained in the y_train. Here we see that y_train is actually a 2D array."
      ],
      "metadata": {
        "id": "zKpAJwYHxujp"
      },
      "id": "zKpAJwYHxujp"
    },
    {
      "cell_type": "code",
      "source": [
        "y_train[:6]"
      ],
      "metadata": {
        "colab": {
          "base_uri": "https://localhost:8080/"
        },
        "id": "bb3l049woitO",
        "outputId": "7b0e141e-09ae-4a28-976a-8c4440937410"
      },
      "id": "bb3l049woitO",
      "execution_count": 10,
      "outputs": [
        {
          "output_type": "execute_result",
          "data": {
            "text/plain": [
              "array([[6],\n",
              "       [9],\n",
              "       [9],\n",
              "       [4],\n",
              "       [1],\n",
              "       [1]], dtype=uint8)"
            ]
          },
          "metadata": {},
          "execution_count": 10
        }
      ]
    },
    {
      "cell_type": "markdown",
      "source": [
        "Now we don't want each y_train to be a 2D array, there's no need for this so we will reshape it and convert it into 1D array."
      ],
      "metadata": {
        "id": "NNrq6xgex8rS"
      },
      "id": "NNrq6xgex8rS"
    },
    {
      "cell_type": "code",
      "source": [
        "y_train = y_train.reshape(-1,)\n",
        "y_train[:5]"
      ],
      "metadata": {
        "colab": {
          "base_uri": "https://localhost:8080/"
        },
        "id": "szB3wWfQpAxo",
        "outputId": "43cfd489-15cd-4e33-bbfa-18ab7a818f50"
      },
      "id": "szB3wWfQpAxo",
      "execution_count": 11,
      "outputs": [
        {
          "output_type": "execute_result",
          "data": {
            "text/plain": [
              "array([6, 9, 9, 4, 1], dtype=uint8)"
            ]
          },
          "metadata": {},
          "execution_count": 11
        }
      ]
    },
    {
      "cell_type": "markdown",
      "source": [
        "The output (above) shows that y_train now is a 1D array that consists of numbers ranging from 0-9. There values represent the class label (classLabels list in below cell)."
      ],
      "metadata": {
        "id": "wXXuTQRbyU-H"
      },
      "id": "wXXuTQRbyU-H"
    },
    {
      "cell_type": "markdown",
      "source": [
        "### Defining an image displaying function.\n",
        "This function displays the image and it's label. By default a random value from 0-50,000 is being passed to the function (since there are 50,000 images in the training data) but any index can be manually passed to the function. "
      ],
      "metadata": {
        "id": "sADqXGvtynIP"
      },
      "id": "sADqXGvtynIP"
    },
    {
      "cell_type": "code",
      "source": [
        "classLabels = [\"airplane\", \"automobile\", \"bird\", \"cat\", \"deer\", \"dog\", \"frog\", \"horse\", \"ship\", \"truck\"]\n",
        "# print(y_train[0], classLabels[y_train[0]])\n",
        "\n",
        "def plotImageSample(X, y, index):\n",
        "  plt.figure(figsize = (10, 2))\n",
        "  plt.imshow(X[index])\n",
        "  plt.xlabel(classLabels[y[index]], weight=\"bold\")\n",
        "\n",
        "randomImageNumber = np.random.randint(1, 50000)\n",
        "plotImageSample(X_train, y_train, randomImageNumber)"
      ],
      "metadata": {
        "colab": {
          "base_uri": "https://localhost:8080/",
          "height": 173
        },
        "id": "4sTtYeNUnGK8",
        "outputId": "312d4527-1a40-43ee-ddc3-fc1da67d0fc6"
      },
      "id": "4sTtYeNUnGK8",
      "execution_count": 34,
      "outputs": [
        {
          "output_type": "display_data",
          "data": {
            "text/plain": [
              "<Figure size 720x144 with 1 Axes>"
            ],
            "image/png": "[encoded data removed]"
          },
          "metadata": {
            "needs_background": "light"
          }
        }
      ]
    },
    {
      "cell_type": "markdown",
      "source": [
        "### Normalizing RGB values\n",
        "All RGB values range from 0-255, we wil be normalizing each pixel value by dividing it by 255 so all pixel values will range from 0-1."
      ],
      "metadata": {
        "id": "5x23cHu1zJyv"
      },
      "id": "5x23cHu1zJyv"
    },
    {
      "cell_type": "code",
      "source": [
        "X_train = X_train / 255\n",
        "X_test = X_test / 255"
      ],
      "metadata": {
        "id": "OYezu1WUqyA6"
      },
      "id": "OYezu1WUqyA6",
      "execution_count": 37,
      "outputs": []
    },
    {
      "cell_type": "code",
      "source": [
        "X_train[0]"
      ],
      "metadata": {
        "colab": {
          "base_uri": "https://localhost:8080/"
        },
        "id": "Lq3zX2S-ziJ0",
        "outputId": "48848dab-88dc-4ec2-ca8b-68655cf71864"
      },
      "id": "Lq3zX2S-ziJ0",
      "execution_count": 38,
      "outputs": [
        {
          "output_type": "execute_result",
          "data": {
            "text/plain": [
              "array([[[0.00090734, 0.00095348, 0.00096886],\n",
              "        [0.00066128, 0.00070742, 0.00069204],\n",
              "        [0.00076894, 0.00073818, 0.00066128],\n",
              "        ...,\n",
              "        [0.00242983, 0.00202999, 0.0016609 ],\n",
              "        [0.00233756, 0.00192234, 0.00156863],\n",
              "        [0.00227605, 0.00190696, 0.00158401]],\n",
              "\n",
              "       [[0.00024606, 0.00030757, 0.00030757],\n",
              "        [0.        , 0.        , 0.        ],\n",
              "        [0.00027682, 0.00012303, 0.        ],\n",
              "        ...,\n",
              "        [0.00189158, 0.00135333, 0.00084583],\n",
              "        [0.00183007, 0.00127643, 0.00076894],\n",
              "        [0.0018762 , 0.00133795, 0.00087659]],\n",
              "\n",
              "       [[0.00038447, 0.00036909, 0.00032295],\n",
              "        [0.00024606, 0.00010765, 0.        ],\n",
              "        [0.00075356, 0.00041522, 0.00012303],\n",
              "        ...,\n",
              "        [0.00181469, 0.00129181, 0.00076894],\n",
              "        [0.00184544, 0.00129181, 0.00076894],\n",
              "        [0.00167628, 0.00112265, 0.00064591]],\n",
              "\n",
              "       ...,\n",
              "\n",
              "       [[0.00319877, 0.00261438, 0.00147636],\n",
              "        [0.00309112, 0.00235294, 0.00052288],\n",
              "        [0.00304498, 0.00247597, 0.00039985],\n",
              "        ...,\n",
              "        [0.00246059, 0.00204537, 0.00107651],\n",
              "        [0.00086121, 0.00047674, 0.00010765],\n",
              "        [0.00081507, 0.00052288, 0.00030757]],\n",
              "\n",
              "       [[0.00276817, 0.00213764, 0.00147636],\n",
              "        [0.00266052, 0.00189158, 0.00064591],\n",
              "        [0.00286044, 0.00221453, 0.00046136],\n",
              "        ...,\n",
              "        [0.00282968, 0.00227605, 0.0014456 ],\n",
              "        [0.00149173, 0.00095348, 0.00052288],\n",
              "        [0.00127643, 0.00081507, 0.00052288]],\n",
              "\n",
              "       [[0.00272203, 0.00221453, 0.00178393],\n",
              "        [0.00258362, 0.00198385, 0.0014456 ],\n",
              "        [0.00275279, 0.00218378, 0.00133795],\n",
              "        ...,\n",
              "        [0.0033218 , 0.00282968, 0.00215302],\n",
              "        [0.00232218, 0.00181469, 0.00129181],\n",
              "        [0.00189158, 0.00141484, 0.00110727]]])"
            ]
          },
          "metadata": {},
          "execution_count": 38
        }
      ]
    },
    {
      "cell_type": "code",
      "source": [
        ""
      ],
      "metadata": {
        "id": "fVm5-hTLzk_G"
      },
      "id": "fVm5-hTLzk_G",
      "execution_count": null,
      "outputs": []
    }
  ],
  "metadata": {
    "kernelspec": {
      "display_name": "Python 3",
      "language": "python",
      "name": "python3"
    },
    "language_info": {
      "codemirror_mode": {
        "name": "ipython",
        "version": 3
      },
      "file_extension": ".py",
      "mimetype": "text/x-python",
      "name": "python",
      "nbconvert_exporter": "python",
      "pygments_lexer": "ipython3",
      "version": "3.8.8"
    },
    "colab": {
      "name": "i191712_Assignment3.ipynb",
      "provenance": [],
      "collapsed_sections": [],
      "include_colab_link": true
    }
  },
  "nbformat": 4,
  "nbformat_minor": 5
}